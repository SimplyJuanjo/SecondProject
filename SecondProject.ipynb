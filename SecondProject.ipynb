{
  "nbformat": 4,
  "nbformat_minor": 0,
  "metadata": {
    "colab": {
      "name": "SecondProject.ipynb",
      "provenance": [],
      "authorship_tag": "ABX9TyOPx41baeRoHMRbCyMyXzfq",
      "include_colab_link": true
    },
    "kernelspec": {
      "name": "python3",
      "display_name": "Python 3"
    },
    "language_info": {
      "name": "python"
    }
  },
  "cells": [
    {
      "cell_type": "markdown",
      "metadata": {
        "id": "view-in-github",
        "colab_type": "text"
      },
      "source": [
        "<a href=\"https://colab.research.google.com/github/SimplyJuanjo/SecondProject/blob/main/SecondProject.ipynb\" target=\"_parent\"><img src=\"https://colab.research.google.com/assets/colab-badge.svg\" alt=\"Open In Colab\"/></a>"
      ]
    },
    {
      "cell_type": "code",
      "metadata": {
        "id": "7DA7qMcv-Bs4"
      },
      "source": [
        "#SecondProject\n",
        "#Improve the \"Guess the number\" game using functions. Here some ideas:\n",
        "\n",
        "    # - func to get input from user (implemented)\n",
        "    # - func to print messages to the user (implemented)\n",
        "    # - func for game playable-loop mechanic (implemented)\n",
        "\n",
        "    # - Any other improvement you can come up with:\n",
        "\n",
        "          # - func for game difficulty (implemented)\n",
        "          # - fun for win rewards (implemented)\n",
        "          # - func for restarting the game (implemented)\n",
        "          # - func for init the game (implemeted)\n",
        "          # - main cell for the rest of the code (implemented)\n"
      ],
      "execution_count": 94,
      "outputs": []
    },
    {
      "cell_type": "code",
      "metadata": {
        "id": "v4vwdpEXRjsl"
      },
      "source": [
        "def varInput(quest,varType):\n",
        "  a = varType(input(quest))\n",
        "  return a"
      ],
      "execution_count": 95,
      "outputs": []
    },
    {
      "cell_type": "code",
      "metadata": {
        "id": "xhx3WOt8WOCC"
      },
      "source": [
        "def msg(message):\n",
        "  print(message)"
      ],
      "execution_count": 96,
      "outputs": []
    },
    {
      "cell_type": "code",
      "metadata": {
        "id": "1KFCfTFOVQ6A"
      },
      "source": [
        "def gameDiff (dif):\n",
        "  if dif == 1:\n",
        "    msg(\"Seleccionado modo fácil\")\n",
        "    msg(\"\")\n",
        "    max_i = 5\n",
        "    show_i = True\n",
        "    show_dir = True\n",
        "  elif dif == 2:\n",
        "    msg(\"Seleccionado modo díficil\")\n",
        "    msg(\"\")\n",
        "    max_i = 4\n",
        "    show_i = True\n",
        "    show_dir = False\n",
        "  else:\n",
        "    msg(\"Seleccionado modo insano\")\n",
        "    msg(\"\")\n",
        "    max_i = 3\n",
        "    show_i = False\n",
        "    show_dir = False\n",
        "\n",
        "  return max_i, show_i, show_dir"
      ],
      "execution_count": 97,
      "outputs": []
    },
    {
      "cell_type": "code",
      "metadata": {
        "id": "9Ct-CGrlT3mZ"
      },
      "source": [
        "def gameLoop (x, max_i, i, show_i, show_dir, win):\n",
        "\n",
        "  a = varInput(\"Escribe un número: \", int)\n",
        "  msg(\"\")\n",
        "\n",
        "  while a!=x:\n",
        "    if a == -1:\n",
        "      msg(f\"Cheat code, el número es: {x}\")\n",
        "      break\n",
        "      \n",
        "    msg(\"Incorrecto\")\n",
        "    i += 1\n",
        "\n",
        "    if show_i == True:\n",
        "      msg(f\"Te quedan {max_i - i} intentos\")\n",
        "\n",
        "    if show_dir == True:\n",
        "      if a < x:\n",
        "        msg(\"El número es mayor que tu número\")\n",
        "      else:\n",
        "        msg(\"El número es menor que tu número\")\n",
        "    \n",
        "    if i == max_i:\n",
        "      break\n",
        "    else:\n",
        "      a = int(input(\"Prueba otra vez: \"))\n",
        "\n",
        "  if i != max_i:\n",
        "    if i == 0:\n",
        "      win += 1\n",
        "      msg(\"Premio especial por acertar a la primera!!\")\n",
        "      msg(\"Este es el link para descargar el código del juego:\")\n",
        "      msg(\"https://github.com/SimplyJuanjo/FirstProject.git\")\n",
        "    else:\n",
        "      msg(\"Correcto\")\n",
        "      win += 1\n",
        "  else:\n",
        "    msg(\"No te quedan intentos\")\n",
        "    msg(\"\")\n",
        "    win = 0\n",
        "    \n",
        "  return win"
      ],
      "execution_count": 98,
      "outputs": []
    },
    {
      "cell_type": "code",
      "metadata": {
        "id": "y_wLoQ8iZDDa"
      },
      "source": [
        "def winRewards(win):\n",
        "  if win == 1:\n",
        "    msg(f\"Llevas {win} victoria\")\n",
        "    msg(\"\")\n",
        "  else:\n",
        "    msg(f\"Llevas {win} victorias\")\n",
        "    msg(\"\")   \n",
        "\n",
        "  if win == 3:\n",
        "    msg(\"Felicidades, por haber llegado a 3 victorias recibirás una sorpresa:\")\n",
        "    msg(\"https://www.linkedin.com/in/juanjodoolmo/\")\n",
        "  elif win == 5:\n",
        "    msg(\"Felicidades, por haber llegado a 5 victorias recibirás otra sorpresa:\")\n",
        "    msg(\"https://www.instagram.com/simplyJuanjo/\")\n",
        "  elif win == 7:\n",
        "    msg(\"Felicidades, por haber llegado a 7 victorias recibirás una sorpresa:\")\n",
        "    msg(\"https://www.youtube.com/sflgalicia\")"
      ],
      "execution_count": 99,
      "outputs": []
    },
    {
      "cell_type": "code",
      "metadata": {
        "id": "cHAjQSoJZqVm"
      },
      "source": [
        "def restartGame(decc, c):  \n",
        "  i = 0\n",
        "  if decc == \"Si\":\n",
        "    \n",
        "    c = c\n",
        "    msg(\"Reiniciando...\")\n",
        "    msg(\"\")\n",
        "\n",
        "  else:\n",
        "\n",
        "    c = 0\n",
        "    msg(\"Pase un buen día\")\n",
        "\n",
        "  return c, i"
      ],
      "execution_count": 100,
      "outputs": []
    },
    {
      "cell_type": "code",
      "metadata": {
        "id": "oB6mioSTZ1hw"
      },
      "source": [
        "def startGame(c,i, win):\n",
        "  while c == 1:\n",
        "\n",
        "    x = random.randint(1, 10)\n",
        "    dif = varInput(\"\"\"Primero, seleccione una dificultad:\n",
        "\n",
        "  1) Fácil:   Tendrás asistencia y 5 intentos\n",
        "  2) Díficil: No tendrás asistencia y 4 intentos\n",
        "  3) Insano:  Sólo tendrás 3 intentos\n",
        "\n",
        "  \"\"\", int)\n",
        "    msg(\"\")\n",
        "\n",
        "    max_i, show_i, show_dir = gameDiff(dif)\n",
        "\n",
        "    win = gameLoop(x, max_i, i, show_i, show_dir, win)\n",
        "\n",
        "    winRewards(win)\n",
        "\n",
        "    decc = varInput(\"Quieres volver a jugar? \", str)\n",
        "\n",
        "    c, i = restartGame(decc, c)\n",
        "    "
      ],
      "execution_count": 101,
      "outputs": []
    },
    {
      "cell_type": "code",
      "metadata": {
        "colab": {
          "base_uri": "https://localhost:8080/"
        },
        "id": "rFwcdWdceQXe",
        "outputId": "0736f14c-7dc8-41c8-f266-ea5ec9b23b9f"
      },
      "source": [
        "#Main Cell of the Code:\n",
        "\n",
        "import random\n",
        "\n",
        "c = 1\n",
        "i = 0\n",
        "win = 0\n",
        "\n",
        "msg(\"\"\"\n",
        "\n",
        "      ______  _________ _______  _                 _______  _       _________ ______   _______ \n",
        "     (  ___ \\ \\__   __/(  ____ \\( (    /||\\     /|(  ____ \\( (    /|\\__   __/(  __  \\ (  ___  )\n",
        "     | (   ) )   ) (   | (    \\/|  \\  ( || )   ( || (    \\/|  \\  ( |   ) (   | (  \\  )| (   ) |\n",
        "     | (__/ /    | |   | (__    |   \\ | || |   | || (__    |   \\ | |   | |   | |   ) || |   | |\n",
        "     |  __ (     | |   |  __)   | (\\ \\) |( (   ) )|  __)   | (\\ \\) |   | |   | |   | || |   | |\n",
        "     | (  \\ \\    | |   | (      | | \\   | \\ \\_/ / | (      | | \\   |   | |   | |   ) || |   | |\n",
        "     | )___) )___) (___| (____/\\| )  \\  |  \\   /  | (____/\\| )  \\  |___) (___| (__/  )| (___) |\n",
        "     |/ \\___/ \\_______/(_______/|/    )_)   \\_/   (_______/|/    )_)\\_______/(______/ (_______)\n",
        "                                                                                               \n",
        "   _______  _         _________          _______  _______  _______      ______   _______  _       \n",
        "  (  ___  )( \\        \\__    _/|\\     /|(  ____ \\(  ____ \\(  ___  )    (  __  \\ (  ____ \\( \\      \n",
        "  | (   ) || (           )  (  | )   ( || (    \\/| (    \\/| (   ) |    | (  \\  )| (    \\/| (      \n",
        "  | (___) || |           |  |  | |   | || (__    | |      | |   | |    | |   ) || (__    | |      \n",
        "  |  ___  || |           |  |  | |   | ||  __)   | | ____ | |   | |    | |   | ||  __)   | |      \n",
        "  | (   ) || |           |  |  | |   | || (      | | \\_  )| |   | |    | |   ) || (      | |      \n",
        "  | )   ( || (____/\\  |\\_)  )  | (___) || (____/\\| (___) || (___) |    | (__/  )| (____/\\| (____/\\ \n",
        "  |/     \\|(_______/  (____/   (_______)(_______/(_______)(_______)    (______/ (_______/(_______/\n",
        "                                                                                                  \n",
        "                                 _______  _______  _______  _______ \n",
        "                                (  ___  )/ ___   )(  ___  )(  ____ )\n",
        "                                | (   ) |\\/   )  || (   ) || (    )|\n",
        "                                | (___) |    /   )| (___) || (____)|\n",
        "                                |  ___  |   /   / |  ___  ||     __)\n",
        "                                | (   ) |  /   /  | (   ) || (\\ (   \n",
        "                                | )   ( | /   (_/\\| )   ( || ) \\ \\__\n",
        "                                |/     \\|(_______/|/     \\||/   \\__/\n",
        "\"\"\")\n",
        "msg(\"\")\n",
        "msg(\"\")\n",
        "msg(\" Se generará un número aleatorio del 1 al 10 y tendrá que acertarlo en el menor número posible de intentos\")\n",
        "msg(\"\")\n",
        "msg(\"\")\n",
        "\n",
        "startGame (c,i, win)"
      ],
      "execution_count": 102,
      "outputs": [
        {
          "output_type": "stream",
          "name": "stdout",
          "text": [
            "\n",
            "\n",
            "      ______  _________ _______  _                 _______  _       _________ ______   _______ \n",
            "     (  ___ \\ \\__   __/(  ____ \\( (    /||\\     /|(  ____ \\( (    /|\\__   __/(  __  \\ (  ___  )\n",
            "     | (   ) )   ) (   | (    \\/|  \\  ( || )   ( || (    \\/|  \\  ( |   ) (   | (  \\  )| (   ) |\n",
            "     | (__/ /    | |   | (__    |   \\ | || |   | || (__    |   \\ | |   | |   | |   ) || |   | |\n",
            "     |  __ (     | |   |  __)   | (\\ \\) |( (   ) )|  __)   | (\\ \\) |   | |   | |   | || |   | |\n",
            "     | (  \\ \\    | |   | (      | | \\   | \\ \\_/ / | (      | | \\   |   | |   | |   ) || |   | |\n",
            "     | )___) )___) (___| (____/\\| )  \\  |  \\   /  | (____/\\| )  \\  |___) (___| (__/  )| (___) |\n",
            "     |/ \\___/ \\_______/(_______/|/    )_)   \\_/   (_______/|/    )_)\\_______/(______/ (_______)\n",
            "                                                                                               \n",
            "   _______  _         _________          _______  _______  _______      ______   _______  _       \n",
            "  (  ___  )( \\        \\__    _/|\\     /|(  ____ \\(  ____ \\(  ___  )    (  __  \\ (  ____ \\( \\      \n",
            "  | (   ) || (           )  (  | )   ( || (    \\/| (    \\/| (   ) |    | (  \\  )| (    \\/| (      \n",
            "  | (___) || |           |  |  | |   | || (__    | |      | |   | |    | |   ) || (__    | |      \n",
            "  |  ___  || |           |  |  | |   | ||  __)   | | ____ | |   | |    | |   | ||  __)   | |      \n",
            "  | (   ) || |           |  |  | |   | || (      | | \\_  )| |   | |    | |   ) || (      | |      \n",
            "  | )   ( || (____/\\  |\\_)  )  | (___) || (____/\\| (___) || (___) |    | (__/  )| (____/\\| (____/\\ \n",
            "  |/     \\|(_______/  (____/   (_______)(_______/(_______)(_______)    (______/ (_______/(_______/\n",
            "                                                                                                  \n",
            "                                 _______  _______  _______  _______ \n",
            "                                (  ___  )/ ___   )(  ___  )(  ____ )\n",
            "                                | (   ) |\\/   )  || (   ) || (    )|\n",
            "                                | (___) |    /   )| (___) || (____)|\n",
            "                                |  ___  |   /   / |  ___  ||     __)\n",
            "                                | (   ) |  /   /  | (   ) || (\\ (   \n",
            "                                | )   ( | /   (_/\\| )   ( || ) \\ \\__\n",
            "                                |/     \\|(_______/|/     \\||/   \\__/\n",
            "\n",
            "\n",
            "\n",
            " Se generará un número aleatorio del 1 al 10 y tendrá que acertarlo en el menor número posible de intentos\n",
            "\n",
            "\n",
            "Primero, seleccione una dificultad:\n",
            "\n",
            "  1) Fácil:   Tendrás asistencia y 5 intentos\n",
            "  2) Díficil: No tendrás asistencia y 4 intentos\n",
            "  3) Insano:  Sólo tendrás 3 intentos\n",
            "\n",
            "  3\n",
            "\n",
            "Seleccionado modo insano\n",
            "\n",
            "Escribe un número: -1\n",
            "\n",
            "Cheat code, el número es: 6\n",
            "Premio especial por acertar a la primera!!\n",
            "Este es el link para descargar el código del juego:\n",
            "https://github.com/SimplyJuanjo/FirstProject.git\n",
            "Llevas 1 victoria\n",
            "\n",
            "Quieres volver a jugar? No\n",
            "Pase un buen día\n"
          ]
        }
      ]
    }
  ]
}